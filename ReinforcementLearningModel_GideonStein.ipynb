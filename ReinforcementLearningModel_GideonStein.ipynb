{
 "cells": [
  {
   "cell_type": "markdown",
   "metadata": {},
   "source": [
    "# Reinforcement learning and the provision of public goods \n"
   ]
  },
  {
   "cell_type": "markdown",
   "metadata": {},
   "source": [
    "The following code is the base for the Bachelor thesis:\"Reinforcement learning and the provision of public goods - An evaluation of a reinforcement learning model in large public goods games\"\n",
    "The single steps are all commented and code will be cut into many pieces to improve intelligibility. The code includes different optimization options and additional tools to maximize usability."
   ]
  },
  {
   "cell_type": "code",
   "execution_count": null,
   "metadata": {},
   "outputs": [],
   "source": [
    "# Save Multiple Data for Plotting\n",
    "DataToSave1 = []\n",
    "DataToSave2 = []"
   ]
  },
  {
   "cell_type": "code",
   "execution_count": null,
   "metadata": {},
   "outputs": [],
   "source": [
    "# General Imports\n",
    "import numpy\n",
    "import matplotlib.pyplot as plt\n",
    "import random\n",
    "import scipy, scipy.stats\n",
    "import pylab\n"
   ]
  },
  {
   "cell_type": "code",
   "execution_count": null,
   "metadata": {},
   "outputs": [],
   "source": [
    "# General Parameters\n",
    "numberOfPlayers = 100\n",
    "moneyToDistribute = 50\n",
    "roundsToPlay = 100\n",
    "MPCR = 0.3\n",
    "\n",
    "multiplierPublicGood = MPCR*numberOfPlayers\n",
    "numberOfMCSimulations = 10"
   ]
  },
  {
   "cell_type": "markdown",
   "metadata": {},
   "source": [
    "# Model 1: Reinforcement learning"
   ]
  },
  {
   "cell_type": "code",
   "execution_count": null,
   "metadata": {},
   "outputs": [],
   "source": [
    "# 1. Parameters Reinforcement learning model\n",
    "\n",
    "cutoff = 0.000\n",
    "experimentation = 0.05\n",
    "forgetting = 0.95\n",
    "initialPropensity = 700.00"
   ]
  },
  {
   "cell_type": "code",
   "execution_count": null,
   "metadata": {},
   "outputs": [],
   "source": [
    "# 2. General Data // General objects/ arrays are initialized\n",
    "\n",
    "initialPropensities = []\n",
    "possibleDecisions = []\n",
    "\n",
    "for x in range (0,moneyToDistribute+1): \n",
    "   initialPropensities.append(initialPropensity)\n",
    "  \n",
    "for x in range (0,moneyToDistribute+1):\n",
    "    possibleDecisions.append(x)\n"
   ]
  },
  {
   "cell_type": "code",
   "execution_count": null,
   "metadata": {},
   "outputs": [],
   "source": [
    "# 3. Initial agent values // an object with all propensity stacks is created\n",
    "\n",
    "propensityStack = numpy.array([initialPropensities,initialPropensities])\n",
    "propensitiesToAdd = numpy.array([initialPropensities])\n",
    "for x in range (0,(numberOfPlayers-2)):\n",
    "    propensityStack = numpy.concatenate((propensityStack,propensitiesToAdd),axis=0)\n",
    "print (propensityStack)\n",
    "\n"
   ]
  },
  {
   "cell_type": "code",
   "execution_count": null,
   "metadata": {},
   "outputs": [],
   "source": [
    "# 4.  Converting data to %\n",
    "\n",
    "def convert_to_percent (values,moneyToDistribute,roundsToPlay):\n",
    "    converted=[]\n",
    "    for x in range (0,roundsToPlay):\n",
    "        converted.append((values[x] /moneyToDistribute)*100)\n",
    "    return(converted)"
   ]
  },
  {
   "cell_type": "code",
   "execution_count": null,
   "metadata": {},
   "outputs": [],
   "source": [
    "# 5. Reset the propensity stacks after every simulation\n",
    "\n",
    "def reset_propensity(initialPropensities,numberOfPlayers):\n",
    "    propensityStack = numpy.array([initialPropensities,initialPropensities])\n",
    "    propensitiesToAdd = numpy.array([initialPropensities])\n",
    "\n",
    "    for x in range (0,(numberOfPlayers-2)):\n",
    "       propensityStack = numpy.concatenate((propensityStack,propensitiesToAdd),axis=0)\n",
    "\n",
    "    return (propensityStack)"
   ]
  },
  {
   "cell_type": "code",
   "execution_count": null,
   "metadata": {},
   "outputs": [],
   "source": [
    "# 6. Decide play of agents  // Based on the propensity stack, probabilitys for all player are calculated and a play\n",
    "# is drawn from the probability distribution.\n",
    "\n",
    "def decide_play(propensityStack,possibleDecisions) :\n",
    "    playsThisRound = []\n",
    "    for x in range (0,numpy.size(propensityStack,0)) :   \n",
    "        myProbabilities = propensityStack[x]/numpy.sum(propensityStack[x])   \n",
    "        myPlay = numpy.random.choice(possibleDecisions,p=myProbabilities)\n",
    "        playsThisRound.append(myPlay)\n",
    "    print(propensityStack[0])\n",
    "    return playsThisRound"
   ]
  },
  {
   "cell_type": "code",
   "execution_count": null,
   "metadata": {},
   "outputs": [],
   "source": [
    "# 7. The game  //  The public good is calculated and based on that also the return for every player\n",
    "\n",
    "def play_game(multiplierPublicGood,numberOfPlayers,playsCurrentRound):\n",
    "    ROI = (numpy.sum(playsCurrentRound)*multiplierPublicGood)/numberOfPlayers\n",
    "    return ROI\n"
   ]
  },
  {
   "cell_type": "code",
   "execution_count": null,
   "metadata": {},
   "outputs": [],
   "source": [
    "# 8. Updating agents propensities // The Difference between contribution and ROI is calculated and added to \n",
    "# the propensity stack of the chosen play for all players\n",
    "# cutoff and experimentation are calculated and added to the propensity stack\n",
    "\n",
    "def update_propensities(numberOfPlayers,propensityStack,playsCurrentRound,ROI,experimentation,possibleDecisions,cutoff, multiplierPublicGood):\n",
    "    for x in range (0,numberOfPlayers) :\n",
    "      difference = ROI - playsCurrentRound[x]\n",
    "      if(difference>=0):\n",
    "          propensityStack[x,playsCurrentRound[x]] =propensityStack[x,playsCurrentRound[x]]+(difference)*(1-experimentation)\n",
    "      else : propensityStack[x,playsCurrentRound[x]] =propensityStack[x,playsCurrentRound[x]]+(difference)*(1)\n",
    "      preProbabilities = propensityStack[x]/numpy.sum(propensityStack[x])\n",
    "      for y in range (0,len(possibleDecisions)) :\n",
    "        if preProbabilities[y] < cutoff:\n",
    "           propensityStack[x,y] = 0 \n",
    "      if  (playsCurrentRound[x] == len(possibleDecisions)-1 and difference >= 0) :\n",
    "        propensityStack[x,playsCurrentRound[x]-1]= propensityStack[x,playsCurrentRound[x]-1]+(difference)*(experimentation/2)\n",
    "        propensityStack[x,playsCurrentRound[x]]= propensityStack[x,playsCurrentRound[x]]+(difference)*(experimentation/2)\n",
    "      elif playsCurrentRound[x] == 0 and difference >= 0:\n",
    "        propensityStack[x,playsCurrentRound[x]+1]= propensityStack[x,playsCurrentRound[x]+1]+(difference)*(experimentation/2)\n",
    "        propensityStack[x,playsCurrentRound[x]]= propensityStack[x,playsCurrentRound[x]]+(difference)*(experimentation/2)\n",
    "      elif difference >= 0:\n",
    "        propensityStack[x,playsCurrentRound[x]+1]= propensityStack[x,playsCurrentRound[x]+1]+(difference)*(experimentation/2)\n",
    "        propensityStack[x,playsCurrentRound[x]-1]= propensityStack[x,playsCurrentRound[x]-1]+(difference)*(experimentation/2)\n",
    "    return propensityStack\n",
    "\n",
    "    "
   ]
  },
  {
   "cell_type": "code",
   "execution_count": null,
   "metadata": {},
   "outputs": [],
   "source": [
    "# 9. Forgetting propensities // Propensities are altered bases on the forgetting parameter\n",
    "\n",
    "def forget_propensities(numberOfPlayers,propensityStack,forgetting):\n",
    "    for x in range (0,numberOfPlayers) :\n",
    "        propensityStack[x] = propensityStack[x]*forgetting\n",
    "    return(propensityStack)"
   ]
  },
  {
   "cell_type": "code",
   "execution_count": null,
   "metadata": {
    "scrolled": true
   },
   "outputs": [],
   "source": [
    "# 10. Play the complete game // The functions of the model are executed one after another for the number of rounds that \n",
    "# were specified. After that, the plays of all players during all rounds are stored in an object\n",
    "\n",
    "def complete_simulation(roundsToPlay,decide_play,propensityStack,possibleDecisions,play_game,multiplierPublicGood,numberOfPlayers,update_propensities,experimentation,cutoff,forget_propensities,forgetting):\n",
    "    playsAllGame = []\n",
    "    playsSpecificPlayer = []\n",
    "    for x in range (0,roundsToPlay):\n",
    "        playsThisRound = decide_play(propensityStack,possibleDecisions)\n",
    "        playsAllGame.append(playsThisRound)\n",
    "        playsSpecificPlayer.append(playsThisRound[0])\n",
    "        gameResult = play_game(multiplierPublicGood,numberOfPlayers,playsThisRound)\n",
    "        propensityStack = update_propensities(numberOfPlayers,propensityStack,playsThisRound,gameResult,experimentation,possibleDecisions,cutoff,multiplierPublicGood)\n",
    "        propensityStack = forget_propensities(numberOfPlayers,propensityStack,forgetting)\n",
    "    print(playsSpecificPlayer)\n",
    "    return(playsAllGame)"
   ]
  },
  {
   "cell_type": "code",
   "execution_count": null,
   "metadata": {},
   "outputs": [],
   "source": [
    "# 11. Initiate a single simulation and prepare the data for plotting // The data object is processed into an array that holds \n",
    "# the average contribution for every round, and in arrays that hold the individual contributions for every round\n",
    "\n",
    "singleSimulation =complete_simulation(roundsToPlay,decide_play,propensityStack,possibleDecisions,play_game,multiplierPublicGood,numberOfPlayers,update_propensities,experimentation,cutoff,forget_propensities,forgetting)\n",
    "propensityStack = reset_propensity(initialPropensities,numberOfPlayers)\n",
    "averageContribution = []\n",
    "specificContribution =[]\n",
    "freeRiding = []\n",
    "for x in range (0,roundsToPlay):\n",
    "    averageContribution.append((sum(singleSimulation[x])/numberOfPlayers))\n",
    "\n",
    "for z in range (0,roundsToPlay): \n",
    "    frCounter = 0\n",
    "    for w in range(0, numberOfPlayers) :\n",
    "        if singleSimulation[z][w] == 0 : \n",
    "            frCounter +=1\n",
    "    frCounter = frCounter/numberOfPlayers*100\n",
    "    freeRiding.append(frCounter)\n",
    "\n",
    "for y in range (0,numberOfPlayers):\n",
    "    playersContribution = []\n",
    "    for z in range(0,roundsToPlay): \n",
    "        playersContribution.append(singleSimulation[z][y])\n",
    "    specificContribution.append(playersContribution)\n"
   ]
  },
  {
   "cell_type": "code",
   "execution_count": null,
   "metadata": {
    "scrolled": true
   },
   "outputs": [],
   "source": [
    "# 12. Plotting the decisions for a single simulation  // The average contribution for every round is shown as a graph.\n",
    "plt.plot(convert_to_percent(averageContribution,moneyToDistribute,roundsToPlay))\n",
    "plt.ylabel('AverageContribution in %')\n",
    "plt.show()"
   ]
  },
  {
   "cell_type": "code",
   "execution_count": null,
   "metadata": {},
   "outputs": [],
   "source": [
    "# 13. Plotting the free-riding behavior for a single simulation // \n",
    "# The % of free riding behavior for every round is shown as a graph\n",
    "print(freeRiding)\n",
    "plt.plot(freeRiding)\n",
    "plt.ylabel('Free riding behavior in %')\n",
    "plt.show()"
   ]
  },
  {
   "cell_type": "code",
   "execution_count": null,
   "metadata": {},
   "outputs": [],
   "source": [
    "# 14. Plotting the decisions for a single simulation  // Individual contributions for every round are drawn as a graph\n",
    "for x in range (0,numberOfPlayers): \n",
    "    plt.plot(convert_to_percent(specificContribution[x],moneyToDistribute,roundsToPlay))\n",
    "    plt.ylabel(\"contribution of player %x in percent\" % (x+1))\n",
    "    '''plt.show()'''"
   ]
  },
  {
   "cell_type": "code",
   "execution_count": null,
   "metadata": {},
   "outputs": [],
   "source": [
    "# 15. Average Contribution in Numbers for a single simulation\n",
    "print(averageContribution)"
   ]
  },
  {
   "cell_type": "code",
   "execution_count": null,
   "metadata": {},
   "outputs": [],
   "source": [
    "# 16. Initiate a monte carlo simulation of the game // The data is processed into an array that holds \n",
    "# the average contribution for every round for all simulations\n",
    "mcContainerAverage  = []\n",
    "mcCOntainerFreeRiding = []\n",
    "for x in range (0,numberOfMCSimulations):\n",
    "    singleSimulation =complete_simulation(roundsToPlay,decide_play,propensityStack,possibleDecisions,play_game,multiplierPublicGood,numberOfPlayers,update_propensities,experimentation,cutoff,forget_propensities,forgetting)\n",
    "    propensityStack = reset_propensity(initialPropensities,numberOfPlayers)\n",
    "    averageContributionX = []\n",
    "    freeRidingX = []\n",
    "    for x in range (0,roundsToPlay):\n",
    "        averageContributionX.append((sum(singleSimulation[x])/numberOfPlayers))\n",
    "    mcContainerAverage.append(averageContributionX)\n",
    "    \n",
    "    for z in range (0,roundsToPlay): \n",
    "        frCounter = 0\n",
    "        for w in range(0, numberOfPlayers) :\n",
    "            if singleSimulation[z][w] == 0 : \n",
    "                frCounter +=1\n",
    "        frCounter = frCounter/numberOfPlayers*100\n",
    "        freeRidingX.append(frCounter)\n",
    "    mcCOntainerFreeRiding.append(freeRidingX)\n",
    "    \n",
    "    \n",
    "\n",
    "print(mcContainerAverage,mcCOntainerFreeRiding)\n"
   ]
  },
  {
   "cell_type": "code",
   "execution_count": null,
   "metadata": {},
   "outputs": [],
   "source": [
    "# 17. Plotting the decisions for all simulations  // The average contribution for every round for all simulations is shown as a graph.\n",
    "\n",
    "for x in range(0,numberOfMCSimulations):\n",
    "    plt.plot(convert_to_percent(mcContainerAverage[x],moneyToDistribute,roundsToPlay))\n",
    "plt.ylabel('AverageContribution in %')\n",
    "plt.show()"
   ]
  },
  {
   "cell_type": "code",
   "execution_count": null,
   "metadata": {},
   "outputs": [],
   "source": [
    "# 18. Plotting the free riding behavior for all simulations  // Free riding for every round for all simulations is shown as a graph.\n",
    "for x in range(0,numberOfMCSimulations):\n",
    "   \n",
    "    plt.plot(mcCOntainerFreeRiding)\n",
    "plt.ylabel('Average FreeRiding in %')\n",
    "plt.show()"
   ]
  },
  {
   "cell_type": "code",
   "execution_count": null,
   "metadata": {},
   "outputs": [],
   "source": [
    "# 19. Save specific results 60/0.02 : 100/0.02 : 60/0.04 : 100/0.04\n",
    "WeimannA.append(averageContribution)\n",
    "WeimannF.append(freeRiding)\n"
   ]
  },
  {
   "cell_type": "code",
   "execution_count": null,
   "metadata": {},
   "outputs": [],
   "source": [
    "# 20. Print specific data\n",
    "print(WeimannA)\n",
    "for x in range(0,4):\n",
    "    plt.plot(convert_to_percent(WeimannA[x],moneyToDistribute,roundsToPlay))\n",
    "\n",
    "plt.ylabel('Average contribution in %')\n",
    "plt.xlabel('blue=40/0.3  yellow=40/0.75  green= 100/0.3  red = 100/0.75')\n",
    "plt.show()"
   ]
  },
  {
   "cell_type": "code",
   "execution_count": null,
   "metadata": {},
   "outputs": [],
   "source": [
    "# 21. Print specific data\n",
    "print(WeimannF)\n",
    "for x in range(0,4):\n",
    "    plt.plot(WeimannF[x])\n",
    "plt.ylabel('Average FreeRiding in %')\n",
    "plt.xlabel('blue=60/0.02  yellow=100/0.02  green= 60/0.04  red = 100/0.04')\n",
    "plt.show()"
   ]
  },
  {
   "cell_type": "code",
   "execution_count": null,
   "metadata": {},
   "outputs": [],
   "source": [
    "# 22. Export results\n",
    "f= open(\"IsaacInitial.txt\",\"a+\") # put new datafile names here\n",
    "f.write(str(WeimannA))\n",
    "f.write(str(WeimannF))"
   ]
  },
  {
   "cell_type": "markdown",
   "metadata": {},
   "source": [
    "-----------------------------------------------------------------------------------------------------------------------"
   ]
  },
  {
   "cell_type": "code",
   "execution_count": null,
   "metadata": {},
   "outputs": [],
   "source": [
    "# 23.  Fitting the parameters // Given a number of players, rounds to play, MPCR, and Money to distribute, the parameters\n",
    "# cutoff, experimentation, forgetting ,initialPropensity are fitted in order to maximize the predictive power of the model.\n",
    "# Unfortunately this can only be done by a graphical analysis. Graphs for all combinations of parameters are printed below.\n",
    "# !Keep the parameters which seems to create a good prediction. Only rounded parameter values are tested.\n",
    "\n",
    "propensityLimit = 40\n",
    "for w in range (1,propensityLimit+1) :\n",
    "    initialPropensity = w*2.0\n",
    "    initialPropensities = []\n",
    "    for x in range (0,moneyToDistribute+1): \n",
    "        initialPropensities.append(initialPropensity)\n",
    "    mcContainerAverage  = []\n",
    "    for z in range (0,numberOfMCSimulations):\n",
    "        propensityStack = reset_propensity(initialPropensities,numberOfPlayers)\n",
    "        singleSimulation =complete_simulation(roundsToPlay,decide_play,propensityStack,possibleDecisions,play_game,multiplierPublicGood,numberOfPlayers,update_propensities,experimentation,cutoff,forget_propensities,forgetting)\n",
    "        averageContribution = []\n",
    "        for x in range (0,roundsToPlay):\n",
    "            averageContribution.append((sum(singleSimulation[x])/numberOfPlayers))\n",
    "        mcContainerAverage.append(averageContribution)\n",
    "            \n",
    "    print(initialPropensity)\n",
    "                          \n",
    "    for y in range(0,numberOfMCSimulations):\n",
    "        plt.plot(convert_to_percent(mcContainerAverage[y],moneyToDistribute,roundsToPlay))\n",
    "    plt.ylabel('AverageContribution in %')\n",
    "    plt.show()\n",
    "                \n"
   ]
  },
  {
   "cell_type": "code",
   "execution_count": null,
   "metadata": {},
   "outputs": [],
   "source": [
    "# 24. Fitting experimentation parameter: \n",
    "\n",
    "experimentationLimit = 25\n",
    "for x in range (0,experimentationLimit+1) :\n",
    "    experimentation = x/50\n",
    "    mcContainerAverage  = []\n",
    "    mcCOntainerFreeRiding = []\n",
    "    for x in range (0,numberOfMCSimulations):\n",
    "        singleSimulation =complete_simulation(roundsToPlay,decide_play,propensityStack,possibleDecisions,play_game,multiplierPublicGood,numberOfPlayers,update_propensities,experimentation,cutoff,forget_propensities,forgetting)\n",
    "        propensityStack = reset_propensity(initialPropensities,numberOfPlayers)\n",
    "        averageContributionX = []\n",
    "        freeRidingX = []\n",
    "        \n",
    "        for x in range (0,roundsToPlay):\n",
    "            averageContributionX.append((sum(singleSimulation[x])/numberOfPlayers))\n",
    "        mcContainerAverage.append(averageContributionX)\n",
    "\n",
    "        for z in range (0,roundsToPlay): \n",
    "            frCounter = 0\n",
    "            for w in range(0, numberOfPlayers) :\n",
    "                if singleSimulation[z][w] == 0 : \n",
    "                    frCounter +=1\n",
    "            frCounter = frCounter/numberOfPlayers*100\n",
    "            freeRidingX.append(frCounter)\n",
    "        mcCOntainerFreeRiding.append(freeRidingX)\n",
    "    print(experimentation)    \n",
    "    for x in range(0,numberOfMCSimulations):\n",
    "        plt.plot(convert_to_percent(mcContainerAverage[x],moneyToDistribute,roundsToPlay))\n",
    "    plt.ylabel('AverageContribution in %')\n",
    "    plt.show()"
   ]
  },
  {
   "cell_type": "code",
   "execution_count": null,
   "metadata": {},
   "outputs": [],
   "source": [
    "# 25. Fitting forgetting parameter: \n",
    "\n",
    "forgettingLimit = 24\n",
    "for x in range (0,forgettingLimit+1) :\n",
    "    forgetting = 1-(x/50)\n",
    "    mcContainerAverage  = []\n",
    "    mcCOntainerFreeRiding = []\n",
    "    for x in range (0,numberOfMCSimulations):\n",
    "        singleSimulation =complete_simulation(roundsToPlay,decide_play,propensityStack,possibleDecisions,play_game,multiplierPublicGood,numberOfPlayers,update_propensities,experimentation,cutoff,forget_propensities,forgetting)\n",
    "        propensityStack = reset_propensity(initialPropensities,numberOfPlayers)\n",
    "        averageContributionX = []\n",
    "        freeRidingX = []\n",
    "        \n",
    "        for x in range (0,roundsToPlay):\n",
    "            averageContributionX.append((sum(singleSimulation[x])/numberOfPlayers))\n",
    "        mcContainerAverage.append(averageContributionX)\n",
    "\n",
    "        for z in range (0,roundsToPlay): \n",
    "            frCounter = 0\n",
    "            for w in range(0, numberOfPlayers) :\n",
    "                if singleSimulation[z][w] == 0 : \n",
    "                    frCounter +=1\n",
    "            frCounter = frCounter/numberOfPlayers*100\n",
    "            freeRidingX.append(frCounter)\n",
    "        mcCOntainerFreeRiding.append(freeRidingX)\n",
    "    print(forgetting)    \n",
    "    for x in range(0,numberOfMCSimulations):\n",
    "        plt.plot(convert_to_percent(mcContainerAverage[x],moneyToDistribute,roundsToPlay))\n",
    "    plt.ylabel('AverageContribution in %')\n",
    "    plt.show()"
   ]
  },
  {
   "cell_type": "code",
   "execution_count": null,
   "metadata": {},
   "outputs": [],
   "source": [
    "# 26. Fitting cutoff parameter: \n",
    "\n",
    "cutoffLimit = 50\n",
    "for x in range (0,cutoffLimit+1) :\n",
    "    cutoff = x/1000\n",
    "    mcContainerAverage  = []\n",
    "    mcCOntainerFreeRiding = []\n",
    "    for x in range (0,numberOfMCSimulations):\n",
    "        singleSimulation =complete_simulation(roundsToPlay,decide_play,propensityStack,possibleDecisions,play_game,multiplierPublicGood,numberOfPlayers,update_propensities,experimentation,cutoff,forget_propensities,forgetting)\n",
    "        propensityStack = reset_propensity(initialPropensities,numberOfPlayers)\n",
    "        averageContributionX = []\n",
    "        freeRidingX = []\n",
    "        \n",
    "        for x in range (0,roundsToPlay):\n",
    "            averageContributionX.append((sum(singleSimulation[x])/numberOfPlayers))\n",
    "        mcContainerAverage.append(averageContributionX)\n",
    "\n",
    "        for z in range (0,roundsToPlay): \n",
    "            frCounter = 0\n",
    "            for w in range(0, numberOfPlayers) :\n",
    "                if singleSimulation[z][w] == 0 : \n",
    "                    frCounter +=1\n",
    "            frCounter = frCounter/numberOfPlayers*100\n",
    "            freeRidingX.append(frCounter)\n",
    "        mcCOntainerFreeRiding.append(freeRidingX)\n",
    "    print(cutoff)    \n",
    "    for x in range(0,numberOfMCSimulations):\n",
    "        plt.plot(convert_to_percent(mcContainerAverage[x],moneyToDistribute,roundsToPlay))\n",
    "    plt.ylabel('AverageContribution in %')\n",
    "    plt.show()"
   ]
  },
  {
   "cell_type": "code",
   "execution_count": null,
   "metadata": {},
   "outputs": [],
   "source": [
    "# 27. Simulate the final model with specific parameters \n",
    "experimentation = 0.05\n",
    "forgetting = 0.96\n",
    "initialPropensity = 3.0\n",
    "initialPropensities = []\n",
    "\n",
    "for x in range (0,moneyToDistribute+1): \n",
    "        initialPropensities.append(initialPropensity*1.0)\n",
    "\n",
    "propensityStack = numpy.array([initialPropensities,initialPropensities])\n",
    "propensitiesToAdd = numpy.array([initialPropensities])\n",
    "for x in range (0,(numberOfPlayers-2)):\n",
    "    propensityStack = numpy.concatenate((propensityStack,propensitiesToAdd),axis=0)\n",
    "    \n",
    "    \n",
    "singleSimulation =complete_simulation(roundsToPlay,decide_play,propensityStack,possibleDecisions,play_game,multiplierPublicGood,numberOfPlayers,update_propensities,experimentation,cutoff,forget_propensities,forgetting)\n",
    "propensityStack = reset_propensity(initialPropensities,numberOfPlayers)\n",
    "averageContribution = []\n",
    "specificContribution =[]\n",
    "freeRiding = []\n",
    "for x in range (0,roundsToPlay):\n",
    "    averageContribution.append((sum(singleSimulation[x])/numberOfPlayers))\n",
    "\n",
    "for z in range (0,roundsToPlay): \n",
    "    frCounter = 0\n",
    "    for w in range(0, numberOfPlayers) :\n",
    "        if singleSimulation[z][w] == 0 : \n",
    "            frCounter +=1\n",
    "    frCounter = frCounter/numberOfPlayers*100\n",
    "    freeRiding.append(frCounter)\n",
    "\n",
    "for y in range (0,numberOfPlayers):\n",
    "    playersContribution = []\n",
    "    for z in range(0,roundsToPlay): \n",
    "        playersContribution.append(singleSimulation[z][y])\n",
    "    specificContribution.append(playersContribution)\n",
    "\n",
    "plt.plot(convert_to_percent(averageContribution,moneyToDistribute,roundsToPlay))\n",
    "plt.ylabel('AverageContribution in %')\n",
    "plt.show()\n",
    "\n",
    "plt.plot(freeRiding)\n",
    "plt.ylabel('Free riding in every round')\n",
    "plt.show()"
   ]
  },
  {
   "cell_type": "markdown",
   "metadata": {},
   "source": [
    "----------------------- The end ---------------------------------------------------------------------------------------"
   ]
  }
 ],
 "metadata": {
  "kernelspec": {
   "display_name": "Python 3",
   "language": "python",
   "name": "python3"
  },
  "language_info": {
   "codemirror_mode": {
    "name": "ipython",
    "version": 3
   },
   "file_extension": ".py",
   "mimetype": "text/x-python",
   "name": "python",
   "nbconvert_exporter": "python",
   "pygments_lexer": "ipython3",
   "version": "3.6.5"
  }
 },
 "nbformat": 4,
 "nbformat_minor": 2
}
